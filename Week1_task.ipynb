{
 "cells": [
  {
   "cell_type": "markdown",
   "metadata": {},
   "source": [
    "### Author: Muhammad Shahab\n",
    "### Linkedin: https://www.linkedin.com/in/muhammad-shahab-189a03265/\n",
    "### Github: https://github.com/zxcoder47/AICP-Internship"
   ]
  },
  {
   "cell_type": "markdown",
   "metadata": {},
   "source": [
    "### Write a NumPy program to create an array of all even integers from 30 to 70."
   ]
  },
  {
   "cell_type": "code",
   "execution_count": 5,
   "metadata": {},
   "outputs": [
    {
     "name": "stdout",
     "output_type": "stream",
     "text": [
      "[30 32 34 36 38 40 42 44 46 48 50 52 54 56 58 60 62 64 66 68 70]\n"
     ]
    }
   ],
   "source": [
    "import numpy as np\n",
    "integer=np.arange(30,71)\n",
    "even_int=integer[integer %2==0]\n",
    "print(even_int)"
   ]
  },
  {
   "cell_type": "markdown",
   "metadata": {},
   "source": [
    "### Write a NumPy program to generate an array of 15 random numbers from a standard normal distribution."
   ]
  },
  {
   "cell_type": "code",
   "execution_count": 6,
   "metadata": {},
   "outputs": [
    {
     "name": "stdout",
     "output_type": "stream",
     "text": [
      "[0.98331667 0.27416232 0.91772402 0.46477961 0.83137074 0.49025456\n",
      " 0.88310809 0.98829655 0.64651448 0.75774685 0.41140226 0.37820672\n",
      " 0.33028676 0.21283412 0.38748753]\n"
     ]
    }
   ],
   "source": [
    "random_num=np.random.rand(15)\n",
    "print(random_num)"
   ]
  },
  {
   "cell_type": "markdown",
   "metadata": {},
   "source": [
    "### How to compute the cross-product of two matrices in NumPy?"
   ]
  },
  {
   "cell_type": "code",
   "execution_count": 7,
   "metadata": {},
   "outputs": [
    {
     "name": "stdout",
     "output_type": "stream",
     "text": [
      "Cross Product: [-3  6 -3]\n"
     ]
    }
   ],
   "source": [
    "# Define two vectors\n",
    "vector1 = np.array([1, 2, 3])\n",
    "vector2 = np.array([4, 5, 6])\n",
    "\n",
    "# Compute the cross product\n",
    "cross_product = np.cross(vector1, vector2)\n",
    "\n",
    "print(\"Cross Product:\", cross_product)"
   ]
  },
  {
   "cell_type": "code",
   "execution_count": 8,
   "metadata": {},
   "outputs": [
    {
     "name": "stdout",
     "output_type": "stream",
     "text": [
      "[[-10  20 -10]\n",
      " [-10  20 -10]\n",
      " [-10  20 -10]]\n"
     ]
    }
   ],
   "source": [
    "# Define two matrices\n",
    "matrix1 = np.array([[1,2,3],\n",
    "                    [4,5,6],\n",
    "                    [7,8,9]])\n",
    "\n",
    "matrix2 = np.array([[11,12,13],\n",
    "                    [14,15,16],\n",
    "                    [17,18,19]])\n",
    "\n",
    "# Compute the cross product\n",
    "cross_product = np.cross(matrix1, matrix2)\n",
    "\n",
    "print(cross_product)"
   ]
  },
  {
   "cell_type": "markdown",
   "metadata": {},
   "source": [
    "### How to compute the determinant of an array using NumPy?"
   ]
  },
  {
   "cell_type": "code",
   "execution_count": 9,
   "metadata": {},
   "outputs": [
    {
     "name": "stdout",
     "output_type": "stream",
     "text": [
      "8.000000000000002\n"
     ]
    }
   ],
   "source": [
    "# Define an array\n",
    "array = np.array([[11, 12],\n",
    "                  [3, 4]])\n",
    "\n",
    "# Compute the determinant\n",
    "determinant = np.linalg.det(array)\n",
    "\n",
    "print(determinant)"
   ]
  },
  {
   "cell_type": "markdown",
   "metadata": {},
   "source": [
    "### How to create a 3x3x3 array with random values using NumPy?"
   ]
  },
  {
   "cell_type": "code",
   "execution_count": 10,
   "metadata": {},
   "outputs": [
    {
     "name": "stdout",
     "output_type": "stream",
     "text": [
      "[[[0.65103799 0.13800219 0.60748552]\n",
      "  [0.30202774 0.48901201 0.79041225]\n",
      "  [0.70728396 0.43931401 0.56869643]]\n",
      "\n",
      " [[0.37266683 0.38742339 0.85019534]\n",
      "  [0.2143963  0.86661756 0.1152766 ]\n",
      "  [0.91212854 0.31972265 0.62818511]]\n",
      "\n",
      " [[0.93744127 0.23841683 0.6015892 ]\n",
      "  [0.81562333 0.24529223 0.86528168]\n",
      "  [0.90876822 0.85901174 0.27893971]]]\n"
     ]
    }
   ],
   "source": [
    "# Create a 3x3x3 array with random values\n",
    "array = np.random.rand(3, 3, 3)\n",
    "\n",
    "print(array)"
   ]
  },
  {
   "cell_type": "markdown",
   "metadata": {},
   "source": [
    "### How to create a 5x5 array with random values and find the minimum and maximum values using NumPy?"
   ]
  },
  {
   "cell_type": "code",
   "execution_count": 11,
   "metadata": {},
   "outputs": [
    {
     "name": "stdout",
     "output_type": "stream",
     "text": [
      "Array:\n",
      "[[0.56128579 0.71383599 0.34844423 0.51601547 0.73974531]\n",
      " [0.5325017  0.12070742 0.32472314 0.89545873 0.17081194]\n",
      " [0.99627876 0.54315458 0.22748222 0.69998577 0.70932405]\n",
      " [0.62696763 0.70407844 0.13292486 0.54340932 0.18887213]\n",
      " [0.48241856 0.9225947  0.10597762 0.15693608 0.83782704]]\n",
      "Minimum value: 0.10597762408969746\n",
      "Maximum value: 0.9962787590026225\n"
     ]
    }
   ],
   "source": [
    "# Create a 5x5 array with random values\n",
    "array = np.random.rand(5, 5)\n",
    "\n",
    "# Find the minimum and maximum values\n",
    "minimum_value = np.min(array)\n",
    "maximum_value = np.max(array)\n",
    "\n",
    "print(\"Array:\")\n",
    "print(array)\n",
    "print(\"Minimum value:\", minimum_value)\n",
    "print(\"Maximum value:\", maximum_value)"
   ]
  },
  {
   "cell_type": "markdown",
   "metadata": {},
   "source": [
    "### How to compute the mean, standard deviation, and variance of a given array along the second axis in NumPy?"
   ]
  },
  {
   "cell_type": "code",
   "execution_count": 12,
   "metadata": {},
   "outputs": [
    {
     "name": "stdout",
     "output_type": "stream",
     "text": [
      "Array:\n",
      "[[11 12 13]\n",
      " [ 4  5  6]]\n",
      "Mean along the second axis: [12.  5.]\n",
      "Standard deviation along the second axis: [0.81649658 0.81649658]\n",
      "Variance along the second axis: [0.66666667 0.66666667]\n"
     ]
    }
   ],
   "source": [
    "# Define the array\n",
    "array = np.array([[11, 12, 13],\n",
    "                  [4, 5, 6]])\n",
    "\n",
    "# Compute the mean, standard deviation, and variance along the second axis\n",
    "mean_values = np.mean(array, axis=1)\n",
    "variance_values = np.var(array, axis=1)\n",
    "std_values = np.std(array, axis=1)\n",
    "\n",
    "\n",
    "print(\"Array:\")\n",
    "print(array)\n",
    "print(\"Mean along the second axis:\", mean_values)\n",
    "print(\"Variance along the second axis:\", variance_values)\n",
    "print(\"Standard deviation along the second axis:\", std_values)"
   ]
  }
 ],
 "metadata": {
  "kernelspec": {
   "display_name": "Python 3",
   "language": "python",
   "name": "python3"
  },
  "language_info": {
   "codemirror_mode": {
    "name": "ipython",
    "version": 3
   },
   "file_extension": ".py",
   "mimetype": "text/x-python",
   "name": "python",
   "nbconvert_exporter": "python",
   "pygments_lexer": "ipython3",
   "version": "3.10.1"
  }
 },
 "nbformat": 4,
 "nbformat_minor": 2
}
