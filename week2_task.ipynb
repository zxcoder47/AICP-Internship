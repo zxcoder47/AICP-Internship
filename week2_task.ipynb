{
 "cells": [
  {
   "cell_type": "markdown",
   "metadata": {},
   "source": [
    "###  Q.1: Writer pandas series code to get following output without using dictionary:"
   ]
  },
  {
   "cell_type": "code",
   "execution_count": 7,
   "metadata": {},
   "outputs": [
    {
     "name": "stdout",
     "output_type": "stream",
     "text": [
      "a    1\n",
      "x    4\n",
      "c    9\n",
      "2    6\n",
      "e    7\n",
      "dtype: int64\n"
     ]
    }
   ],
   "source": [
    "import pandas as pd\n",
    "\n",
    "values = [1, 4, 9, 6, 7]\n",
    "index_labels = ['a', 'x', 'c', 2, 'e']\n",
    "\n",
    "series = pd.Series(values, index=index_labels)\n",
    "print(series)"
   ]
  },
  {
   "cell_type": "markdown",
   "metadata": {},
   "source": [
    "###  Q.2: Writer pandas series code to get following output using dictionary:"
   ]
  },
  {
   "cell_type": "code",
   "execution_count": 8,
   "metadata": {},
   "outputs": [
    {
     "name": "stdout",
     "output_type": "stream",
     "text": [
      "Bilal     42\n",
      "Ayesha    38\n",
      "Hadia     39\n",
      "dtype: int64\n"
     ]
    }
   ],
   "source": [
    "data = {'Bilal': 42, 'Ayesha': 38, 'Hadia': 39}\n",
    "\n",
    "series = pd.Series(data)\n",
    "print(series)"
   ]
  },
  {
   "cell_type": "markdown",
   "metadata": {},
   "source": [
    "###  Q.3: Write pandas dataframe code to get following output using python dictionary"
   ]
  },
  {
   "cell_type": "code",
   "execution_count": 9,
   "metadata": {},
   "outputs": [
    {
     "name": "stdout",
     "output_type": "stream",
     "text": [
      "        day  temperature  windspeed  event\n",
      "0  1/1/2017           32          6   Rain\n",
      "1  1/2/2017           35          7  Sunny\n",
      "2  1/3/2017           28          2   Snow\n",
      "3  1/4/2017           24          7   Snow\n",
      "4  1/5/2017           32          4   Rain\n",
      "5  1/6/2017           31          2  Sunny\n"
     ]
    }
   ],
   "source": [
    "import pandas as pd\n",
    "\n",
    "data = {'day': ['1/1/2017', '1/2/2017', '1/3/2017', '1/4/2017', '1/5/2017','1/6/2017'],\n",
    "        'temperature': [32, 35, 28, 24, 32,31],\n",
    "        'windspeed': [6,7,2,7,4,2],\n",
    "        'event': ['Rain','Sunny','Snow','Snow','Rain','Sunny']}\n",
    "\n",
    "df = pd.DataFrame(data)\n",
    "print(df)"
   ]
  },
  {
   "cell_type": "markdown",
   "metadata": {},
   "source": [
    "###  Q.4: In extension to above question, you are required to replace index by ['a','b','c','d','e','f']"
   ]
  },
  {
   "cell_type": "code",
   "execution_count": 10,
   "metadata": {},
   "outputs": [
    {
     "name": "stdout",
     "output_type": "stream",
     "text": [
      "        day  temperature  windspeed  event\n",
      "a  1/1/2017           32          6   Rain\n",
      "b  1/2/2017           35          7  Sunny\n",
      "c  1/3/2017           28          2   Snow\n",
      "d  1/4/2017           24          7   Snow\n",
      "e  1/5/2017           32          4   Rain\n",
      "f  1/6/2017           31          2  Sunny\n"
     ]
    }
   ],
   "source": [
    "data = {'Day': ['1/1/2017', '1/2/2017', '1/3/2017', '1/4/2017', '1/5/2017','1/6/2017'],\n",
    "        'Temperature': [32, 35, 28, 24, 32,31],\n",
    "        'Windspeed': [6,7,2,7,4,2],\n",
    "        'Event': ['Rain','Sunny','Snow','Snow','Rain','Sunny']}\n",
    "\n",
    "df = pd.DataFrame(data)\n",
    "df.index=['a', 'b', 'c', 'd', 'e', 'f']\n",
    "print(df)"
   ]
  },
  {
   "cell_type": "markdown",
   "metadata": {},
   "source": [
    "###  Q.5: In extension to above Q.3, calculate mean, miximum and minimum for label “temperature”"
   ]
  },
  {
   "cell_type": "code",
   "execution_count": 11,
   "metadata": {},
   "outputs": [
    {
     "name": "stdout",
     "output_type": "stream",
     "text": [
      "Mean temperature: 30.333333333333332\n",
      "Maximum temperature: 35\n",
      "Minimum temperature: 24\n"
     ]
    }
   ],
   "source": [
    "# Calculate mean, maximum, and minimum for \"temperature\" column\n",
    "temperature_mean = df['temperature'].mean()\n",
    "temperature_max = df['temperature'].max()\n",
    "temperature_min = df['temperature'].min()\n",
    "\n",
    "print(\"Mean temperature:\", temperature_mean)\n",
    "print(\"Maximum temperature:\", temperature_max)\n",
    "print(\"Minimum temperature:\", temperature_min)"
   ]
  },
  {
   "cell_type": "markdown",
   "metadata": {},
   "source": [
    "### Q.6: Import CSV ‘people.csv’ in the given folder. Keep in mind the following instructions:\n",
    " * You’re required to import only specific columns [\"First Name\", \"Sex\", \"Email\", “Phone”, “Job Title”]\n",
    " * Set the following columns [\"Sex\", \"Job Title\"] as index columns\n",
    " * Skip following rows [1,5]\n",
    " * Export the CSV as “NewPeople.csv”"
   ]
  },
  {
   "cell_type": "code",
   "execution_count": 9,
   "metadata": {},
   "outputs": [],
   "source": [
    "import pandas as pd\n",
    "# Import specific columns from CSV\n",
    "columns_to_keep =[\"First Name\", \"Sex\", \"Email\", \"Phone\", \"Job Title\"]\n",
    "df = pd.read_csv('people.csv', usecols=columns_to_keep, skiprows=[1, 5])\n",
    "\n",
    "# Set \"Sex\" and \"Job Title\" as index columns\n",
    "df.set_index([\"Sex\", \"Job Title\"], inplace=True)\n",
    "\n",
    "# Export the updated DataFrame as CSV\n",
    "df.to_csv('NewPeople.csv')"
   ]
  },
  {
   "cell_type": "markdown",
   "metadata": {},
   "source": [
    "###  Q.7: Import excel sheet ‘SampleWork.xlsx’ in the given folder. Keep in mind the following instructions:\n",
    " * Import sheet 1\n",
    " * Import only first and last column from sheet 1\n",
    " * Skip row 2 while importing the sheet\n",
    " * Set row 2 as header\n",
    " * export as new sheet."
   ]
  },
  {
   "cell_type": "code",
   "execution_count": 27,
   "metadata": {},
   "outputs": [],
   "source": [
    "import pandas as pd\n",
    "\n",
    "# Import specific columns from Sheet 1 of the Excel file\n",
    "columns_to_keep = [0, 3]  # First and last column\n",
    "df = pd.read_excel('SampleWork.xlsx', sheet_name=0, usecols=columns_to_keep, skiprows=[0])\n",
    "\n",
    "# Set row 2 as the header\n",
    "header_row = 1\n",
    "df.columns = df.iloc[header_row]\n",
    "\n",
    "# Export the updated DataFrame as a new sheet in an Excel file\n",
    "output_file = 'NewSheet.xlsx'\n",
    "with pd.ExcelWriter(output_file) as writer:\n",
    "    df.to_excel(writer, index=False, sheet_name='NewSheet')"
   ]
  },
  {
   "cell_type": "markdown",
   "metadata": {},
   "source": [
    "###  Q.8: Create the following dataframe as AICP_DF then implement different operations as described below:\n",
    " * select 'Name', 'Qualification' coloumns and save to df1\n",
    " * add a new column to AICP_DF “Height” with the following values: [5.1, 6.2, 5.1, 5.2,5.1]\n",
    " * set column “Name” as the index column.\n",
    " * retrieve row with index “Hifza”\n",
    " * retrieve row with index 3\n",
    " * drop row with index “Bilal”"
   ]
  },
  {
   "cell_type": "code",
   "execution_count": 28,
   "metadata": {},
   "outputs": [
    {
     "name": "stdout",
     "output_type": "stream",
     "text": [
      "AICP_DF:\n",
      "       Qualification  Height\n",
      "Name                        \n",
      "Hifza           M.Sc     5.1\n",
      "Ayesha          Ph.D     6.2\n",
      "Hadia         M.Phil     5.2\n",
      "Ali             M.Sc     5.1\n",
      "\n",
      "df1:\n",
      "     Name Qualification\n",
      "0   Hifza          M.Sc\n",
      "1  Ayesha          Ph.D\n",
      "2   Bilal          B.Sc\n",
      "3   Hadia        M.Phil\n",
      "4     Ali          M.Sc\n",
      "\n",
      "Row with index 'Hifza':\n",
      "Qualification    M.Sc\n",
      "Height            5.1\n",
      "Name: Hifza, dtype: object\n",
      "\n",
      "Row with index 3:\n",
      "Qualification    M.Phil\n",
      "Height              5.2\n",
      "Name: Hadia, dtype: object\n"
     ]
    }
   ],
   "source": [
    "import pandas as pd\n",
    "\n",
    "# Create AICP_DF DataFrame\n",
    "data = {'Name': ['Hifza', 'Ayesha', 'Bilal', 'Hadia', 'Ali'],\n",
    "        'Qualification': ['M.Sc', 'Ph.D', 'B.Sc', 'M.Phil', 'M.Sc']}\n",
    "AICP_DF = pd.DataFrame(data)\n",
    "\n",
    "# Select 'Name' and 'Qualification' columns and save to df1\n",
    "df1 = AICP_DF[['Name', 'Qualification']]\n",
    "\n",
    "# Add a new column \"Height\" to AICP_DF\n",
    "AICP_DF['Height'] = [5.1, 6.2, 5.1, 5.2, 5.1]\n",
    "\n",
    "# Set \"Name\" as the index column\n",
    "AICP_DF.set_index('Name', inplace=True)\n",
    "\n",
    "# Retrieve row with index \"Hifza\"\n",
    "row_hifza = AICP_DF.loc['Hifza']\n",
    "\n",
    "# Retrieve row with index 3\n",
    "row_index_3 = AICP_DF.iloc[3]\n",
    "\n",
    "# Drop row with index \"Bilal\"\n",
    "AICP_DF.drop('Bilal', inplace=True)\n",
    "\n",
    "# Print the resulting DataFrames and modified AICP_DF\n",
    "print(\"AICP_DF:\")\n",
    "print(AICP_DF)\n",
    "print(\"\\ndf1:\")\n",
    "print(df1)\n",
    "print(\"\\nRow with index 'Hifza':\")\n",
    "print(row_hifza)\n",
    "print(\"\\nRow with index 3:\")\n",
    "print(row_index_3)"
   ]
  }
 ],
 "metadata": {
  "kernelspec": {
   "display_name": "Python 3",
   "language": "python",
   "name": "python3"
  },
  "language_info": {
   "codemirror_mode": {
    "name": "ipython",
    "version": 3
   },
   "file_extension": ".py",
   "mimetype": "text/x-python",
   "name": "python",
   "nbconvert_exporter": "python",
   "pygments_lexer": "ipython3",
   "version": "3.10.1"
  }
 },
 "nbformat": 4,
 "nbformat_minor": 2
}
